{
 "cells": [
  {
   "cell_type": "markdown",
   "id": "3daa697c",
   "metadata": {},
   "source": [
    "## Pregunta 2"
   ]
  },
  {
   "cell_type": "markdown",
   "id": "defc2b8f",
   "metadata": {},
   "source": [
    "# Introducción de Ciencia de Datos Python\n"
   ]
  },
  {
   "cell_type": "markdown",
   "id": "37b9d3ca",
   "metadata": {},
   "source": [
    "## Pregunta 3"
   ]
  },
  {
   "cell_type": "markdown",
   "id": "c1d42b1a",
   "metadata": {},
   "source": [
    "## Introducción\n",
    "Este cuaderno es una introducción a la ciencia de datos y cómo se puede utilizar en diversas aplicaciones."
   ]
  },
  {
   "cell_type": "markdown",
   "id": "77dfe959",
   "metadata": {},
   "source": [
    "## Pregunta 4"
   ]
  },
  {
   "cell_type": "markdown",
   "id": "614b3cdf",
   "metadata": {},
   "source": [
    "## Lenguajes de la Ciencia de Datos\n",
    "1. Python\n",
    "2. R\n",
    "3. SQL"
   ]
  },
  {
   "cell_type": "markdown",
   "id": "79274af2",
   "metadata": {},
   "source": [
    "## Pregunta 5"
   ]
  },
  {
   "cell_type": "markdown",
   "id": "b767dab7",
   "metadata": {},
   "source": [
    "## Bibliotecas de Ciencia de Datos\n",
    "1. Pandas\n",
    "2. NumPy\n",
    "3. Matplotlib"
   ]
  },
  {
   "cell_type": "markdown",
   "id": "5d5d3ac9",
   "metadata": {},
   "source": [
    "## Pregunta 6"
   ]
  },
  {
   "cell_type": "markdown",
   "id": "ea9750f1",
   "metadata": {},
   "source": [
    "## Herramientas de Ciencia de Datos\n",
    "| Herramienta | Descripción |\n",
    "|-------------|-------------|\n",
    "| Python      | Lenguaje de programación |\n",
    "| Pandas      | Biblioteca para manipulación de datos |\n",
    "| NumPy       | Biblioteca para operaciones numéricas |\n",
    "| Matplotlib  | Biblioteca para visualización de datos |"
   ]
  },
  {
   "cell_type": "markdown",
   "id": "158b7ba4",
   "metadata": {},
   "source": [
    "## Pregunta 7"
   ]
  },
  {
   "cell_type": "markdown",
   "id": "d3dc119b",
   "metadata": {},
   "source": [
    "## Expresiones Aritméticas\n",
    "1. Suma: 2 + 3 = 5\n",
    "2. Resta: 5 - 2 = 3\n",
    "3. Multiplicación: 2 * 3 = 6\n",
    "4. División: 6 / 2 = 3"
   ]
  },
  {
   "cell_type": "markdown",
   "id": "2ec1f7dc",
   "metadata": {},
   "source": [
    "## Pregunta 8"
   ]
  },
  {
   "cell_type": "code",
   "execution_count": 3,
   "id": "910864c6",
   "metadata": {},
   "outputs": [
    {
     "name": "stdout",
     "output_type": "stream",
     "text": [
      "La multiplicación de 2 y 3 es 6\n",
      "La suma de 2 y 3 es 5\n"
     ]
    }
   ],
   "source": [
    "# Multiplicar y sumar números\n",
    "a = 2\n",
    "b = 3\n",
    "multiplicacion = a * b\n",
    "suma = a + b\n",
    "print(f\"La multiplicación de {a} y {b} es {multiplicacion}\")\n",
    "print(f\"La suma de {a} y {b} es {suma}\")"
   ]
  },
  {
   "cell_type": "markdown",
   "id": "e9df16a0",
   "metadata": {},
   "source": [
    "## Pregunta 9"
   ]
  },
  {
   "cell_type": "code",
   "execution_count": 2,
   "id": "9b0ac428",
   "metadata": {},
   "outputs": [
    {
     "name": "stdout",
     "output_type": "stream",
     "text": [
      "120 minutos son 2.0 horas\n"
     ]
    }
   ],
   "source": [
    "# Convertir minutos en horas\n",
    "minutos = 120\n",
    "horas = minutos / 60\n",
    "print(f\"{minutos} minutos son {horas} horas\")"
   ]
  },
  {
   "cell_type": "markdown",
   "id": "916ee9bd",
   "metadata": {},
   "source": [
    "## Pregunta 10"
   ]
  },
  {
   "cell_type": "code",
   "execution_count": 5,
   "id": "b0f97bb7",
   "metadata": {},
   "outputs": [
    {
     "name": "stdout",
     "output_type": "stream",
     "text": [
      "Aprender Python\n",
      "Dominar Pandas\n",
      "Visualizar Datos\n"
     ]
    }
   ],
   "source": [
    "# Listar Objetivos\n",
    "objetivos = [\"Aprender Python\", \"Dominar Pandas\", \"Visualizar Datos\"]\n",
    "for objetivo in objetivos:\n",
    "    print(objetivo)"
   ]
  },
  {
   "cell_type": "markdown",
   "id": "e1af3700",
   "metadata": {},
   "source": [
    "## Pregunta 11"
   ]
  },
  {
   "cell_type": "code",
   "execution_count": 9,
   "id": "21597125",
   "metadata": {},
   "outputs": [
    {
     "name": "stdout",
     "output_type": "stream",
     "text": [
      "El autor de este cuaderno es Geraldo Nicola Pariona Reyes\n"
     ]
    }
   ],
   "source": [
    "## Autor\n",
    "print(\"El autor de este cuaderno es Geraldo Nicola Pariona Reyes\")"
   ]
  },
  {
   "cell_type": "code",
   "execution_count": null,
   "id": "d1cb4c45",
   "metadata": {},
   "outputs": [],
   "source": []
  },
  {
   "cell_type": "code",
   "execution_count": null,
   "id": "f7d1e744",
   "metadata": {},
   "outputs": [],
   "source": []
  }
 ],
 "metadata": {
  "kernelspec": {
   "display_name": "Python 3 (ipykernel)",
   "language": "python",
   "name": "python3"
  },
  "language_info": {
   "codemirror_mode": {
    "name": "ipython",
    "version": 3
   },
   "file_extension": ".py",
   "mimetype": "text/x-python",
   "name": "python",
   "nbconvert_exporter": "python",
   "pygments_lexer": "ipython3",
   "version": "3.10.9"
  }
 },
 "nbformat": 4,
 "nbformat_minor": 5
}
